{
 "cells": [
  {
   "cell_type": "code",
   "execution_count": 1,
   "id": "bb84c270-1d15-415f-9555-02ad4757f9d1",
   "metadata": {},
   "outputs": [
    {
     "name": "stdout",
     "output_type": "stream",
     "text": [
      "WARNING:tensorflow:From c:\\users\\hp\\appdata\\local\\programs\\python\\python39\\lib\\site-packages\\keras\\src\\losses.py:2976: The name tf.losses.sparse_softmax_cross_entropy is deprecated. Please use tf.compat.v1.losses.sparse_softmax_cross_entropy instead.\n",
      "\n"
     ]
    }
   ],
   "source": [
    "import numpy as np\n",
    "import matplotlib.pyplot as plt\n",
    "import pywt\n",
    "import os\n",
    "import librosa \n",
    "from glob import glob\n",
    "from sklearn.model_selection import train_test_split\n",
    "import tensorflow as tf\n",
    "from keras.models import Model\n",
    "from tensorflow import keras\n",
    "from tensorflow.keras.models import Sequential\n",
    "from tensorflow.keras.layers import Dense, Dropout\n",
    "from tensorflow.keras.optimizers import SGD, Adam, Nadam\n",
    "from keras import regularizers\n",
    "from sklearn.ensemble import RandomForestClassifier\n",
    "from sklearn.metrics import accuracy_score, confusion_matrix, precision_score, recall_score, ConfusionMatrixDisplay\n",
    "from sklearn.model_selection import RandomizedSearchCV, train_test_split\n",
    "from scipy.stats import randint"
   ]
  },
  {
   "cell_type": "code",
   "execution_count": 2,
   "id": "527aea30-ec45-476e-a54d-26672671eb5a",
   "metadata": {},
   "outputs": [],
   "source": [
    "normal = sorted(glob(os.path.join(\"\", \"normal\", \"*.wav\")))\n",
    "abnormal = sorted(glob(os.path.join(\"\", \"abnormal\", \"*.wav\")))"
   ]
  },
  {
   "cell_type": "code",
   "execution_count": 3,
   "id": "23fdc8b7-0d58-40d2-9402-f8ab75dd1d9a",
   "metadata": {},
   "outputs": [],
   "source": [
    "x=abnormal+normal"
   ]
  },
  {
   "cell_type": "code",
   "execution_count": 4,
   "id": "429a8ec9-cb97-4baa-8c8f-28810c477338",
   "metadata": {},
   "outputs": [],
   "source": [
    "y_t= [[0]]*408\n",
    "n = [[1]]*533\n",
    "y_t = y_t + n\n",
    "y = np.array(y_t)"
   ]
  },
  {
   "cell_type": "code",
   "execution_count": 6,
   "id": "a9d532a3-d77c-469b-b4ea-8aaa7c03cc39",
   "metadata": {},
   "outputs": [],
   "source": [
    "rfy_t= [0]*408\n",
    "rfn = [1]*533\n",
    "rfy_t = rfy_t + rfn\n",
    "rfy = np.array(rfy_t)"
   ]
  },
  {
   "cell_type": "code",
   "execution_count": 7,
   "id": "53020aa7-efb0-479a-b73e-04b899707825",
   "metadata": {},
   "outputs": [],
   "source": [
    "x_train, x_test = train_test_split(x, test_size=0.3, random_state=42)\n",
    "y_train, y_test = train_test_split(y, test_size=0.3, random_state=42)\n",
    "rfy_train, rfy_test = train_test_split(rfy, test_size=0.3, random_state=42)"
   ]
  },
  {
   "cell_type": "code",
   "execution_count": 8,
   "id": "3a3a3162-2a27-4944-b69e-5443214be2f8",
   "metadata": {},
   "outputs": [],
   "source": [
    "def load_data(path):\n",
    "    x_t = []\n",
    "    for i in path:\n",
    "        data, sr = librosa.load(i, sr=8000)\n",
    "        data=data[:147000]\n",
    "        new_sample_rate = 1000\n",
    "        resampled_data = librosa.resample(data, orig_sr=sr, target_sr=new_sample_rate)\n",
    "        x_t.append(resampled_data)\n",
    "    return x_t"
   ]
  },
  {
   "cell_type": "code",
   "execution_count": 9,
   "id": "b3a77aea-3692-4fb6-8bb3-d5d418383606",
   "metadata": {},
   "outputs": [],
   "source": [
    "X_train=load_data(x_train)\n",
    "X_test=load_data(x_test)"
   ]
  },
  {
   "cell_type": "code",
   "execution_count": 10,
   "id": "27be4a56-05c8-4251-a58b-7bb14a2b2e0a",
   "metadata": {},
   "outputs": [],
   "source": [
    "def wavelet_transform(data):\n",
    "    for i in range(len(data)):\n",
    "        coeffs = pywt.wavedec(data[i], wavelet='haar', level=5)\n",
    "        new = np.zeros(0)\n",
    "        for j in coeffs:\n",
    "            new = np.concatenate((new, j), axis=-1)\n",
    "        data[i] = new"
   ]
  },
  {
   "cell_type": "code",
   "execution_count": 11,
   "id": "2e5bebf2-3e04-44ac-9526-5775a9a9541f",
   "metadata": {},
   "outputs": [],
   "source": [
    "wavelet_transform(X_train)\n",
    "wavelet_transform(X_test)"
   ]
  },
  {
   "cell_type": "code",
   "execution_count": 12,
   "id": "eea728d2-3dc4-45b8-8696-373e4f8fbb97",
   "metadata": {},
   "outputs": [],
   "source": [
    "X_train=np.array(X_train)\n",
    "X_test=np.array(X_test)"
   ]
  },
  {
   "cell_type": "code",
   "execution_count": 34,
   "id": "4202cff9-6dee-4f0e-a56a-0cef6b512e4b",
   "metadata": {},
   "outputs": [
    {
     "name": "stdout",
     "output_type": "stream",
     "text": [
      "Epoch 1/15\n",
      "21/21 [==============================] - 51s 2s/step - loss: 1.2326 - accuracy: 0.5471\n",
      "Epoch 2/15\n",
      "21/21 [==============================] - 46s 2s/step - loss: 1.0140 - accuracy: 0.5942\n",
      "Epoch 3/15\n",
      "21/21 [==============================] - 46s 2s/step - loss: 0.8922 - accuracy: 0.6018\n",
      "Epoch 4/15\n",
      "21/21 [==============================] - 45s 2s/step - loss: 0.7928 - accuracy: 0.6489\n",
      "Epoch 5/15\n",
      "21/21 [==============================] - 46s 2s/step - loss: 0.7136 - accuracy: 0.7158\n",
      "Epoch 6/15\n",
      "21/21 [==============================] - 47s 2s/step - loss: 0.6267 - accuracy: 0.7371\n",
      "Epoch 7/15\n",
      "21/21 [==============================] - 46s 2s/step - loss: 0.5764 - accuracy: 0.7675\n",
      "Epoch 8/15\n",
      "21/21 [==============================] - 50s 2s/step - loss: 0.5472 - accuracy: 0.7842\n",
      "Epoch 9/15\n",
      "21/21 [==============================] - 47s 2s/step - loss: 0.5212 - accuracy: 0.8040\n",
      "Epoch 10/15\n",
      "21/21 [==============================] - 46s 2s/step - loss: 0.5223 - accuracy: 0.7766\n",
      "Epoch 11/15\n",
      "21/21 [==============================] - 45s 2s/step - loss: 0.5249 - accuracy: 0.7979\n",
      "Epoch 12/15\n",
      "21/21 [==============================] - 45s 2s/step - loss: 0.4540 - accuracy: 0.8389\n",
      "Epoch 13/15\n",
      "21/21 [==============================] - 45s 2s/step - loss: 0.4568 - accuracy: 0.8191\n",
      "Epoch 14/15\n",
      "21/21 [==============================] - 46s 2s/step - loss: 0.4517 - accuracy: 0.8404\n",
      "Epoch 15/15\n",
      "21/21 [==============================] - 46s 2s/step - loss: 0.4159 - accuracy: 0.8739\n",
      "0.7279151678085327\n"
     ]
    }
   ],
   "source": [
    "model4 = tf.keras.models.Sequential([\n",
    "    tf.keras.layers.Conv1D(128, 16, input_shape=(18378,1), kernel_regularizer=regularizers.l2(l=0.01)),\n",
    "    tf.keras.layers.MaxPool1D(),\n",
    "    tf.keras.layers.Dropout(0.6),\n",
    "    tf.keras.layers.Conv1D(32, 16,kernel_regularizer=regularizers.l2(l=0.01)),\n",
    "    tf.keras.layers.MaxPool1D(),\n",
    "    tf.keras.layers.Dropout(0.5),\n",
    "    tf.keras.layers.Conv1D(8, 4, kernel_regularizer=regularizers.l2(l=0.01)),\n",
    "    tf.keras.layers.MaxPool1D(),\n",
    "    tf.keras.layers.Dropout(0.4),\n",
    "    tf.keras.layers.Flatten(),\n",
    "    tf.keras.layers.Dense(1, activation='sigmoid')\n",
    "])\n",
    "\n",
    "opt4 = tf.keras.optimizers.Adam(learning_rate=0.001)\n",
    "loss_fn4 = tf.keras.losses.BinaryCrossentropy()\n",
    "model4.compile(optimizer = opt4,\n",
    "              loss = loss_fn4,\n",
    "              metrics = ['accuracy'])\n",
    "model4.fit(X_train, y_train, epochs=15)\n",
    "\n",
    "_, test_accuracy = model4.evaluate(X_test, y_test, verbose=0)\n",
    "print(test_accuracy)\n"
   ]
  },
  {
   "cell_type": "code",
   "execution_count": 40,
   "id": "e8e383fc-7994-4bb7-b8ca-82fb6e93730a",
   "metadata": {},
   "outputs": [
    {
     "name": "stdout",
     "output_type": "stream",
     "text": [
      "1/1 [==============================] - 0s 51ms/step\n",
      " predicting a one: [[0.83666426]]\n",
      "y_hat : [1]\n",
      "1/1 [==============================] - 0s 24ms/step\n",
      " predicting a zero:  [[0.40125242]]\n",
      "y_hat : [0]\n"
     ]
    }
   ],
   "source": [
    "prediction = model4.predict(X_test[22].reshape(1,18378))  # a zero\n",
    "print(f\" predicting a one: {prediction}\")\n",
    "print(f\"y_hat : {y_test[22]}\")\n",
    "prediction = model4.predict(X_test[20].reshape(1,18378))  # a one\n",
    "print(f\" predicting a zero:  {prediction}\")\n",
    "print(f\"y_hat : {y_test[20]}\")"
   ]
  }
 ],
 "metadata": {
  "kernelspec": {
   "display_name": "Python 3 (ipykernel)",
   "language": "python",
   "name": "python3"
  },
  "language_info": {
   "codemirror_mode": {
    "name": "ipython",
    "version": 3
   },
   "file_extension": ".py",
   "mimetype": "text/x-python",
   "name": "python",
   "nbconvert_exporter": "python",
   "pygments_lexer": "ipython3",
   "version": "3.12.3"
  }
 },
 "nbformat": 4,
 "nbformat_minor": 5
}
